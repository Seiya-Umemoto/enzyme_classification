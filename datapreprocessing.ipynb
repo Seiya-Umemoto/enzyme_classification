{
 "metadata": {
  "language_info": {
   "codemirror_mode": {
    "name": "ipython",
    "version": 3
   },
   "file_extension": ".py",
   "mimetype": "text/x-python",
   "name": "python",
   "nbconvert_exporter": "python",
   "pygments_lexer": "ipython3",
   "version": "3.8.2"
  },
  "orig_nbformat": 2,
  "kernelspec": {
   "name": "python382jvsc74a57bd05edc29c2ed010d6458d71a83433b383a96a8cbd3efe8531bc90c4b8a5b8bcec9",
   "display_name": "Python 3.8.2 64-bit ('usr')"
  },
  "metadata": {
   "interpreter": {
    "hash": "5edc29c2ed010d6458d71a83433b383a96a8cbd3efe8531bc90c4b8a5b8bcec9"
   }
  }
 },
 "nbformat": 4,
 "nbformat_minor": 2,
 "cells": [
  {
   "cell_type": "code",
   "execution_count": 48,
   "metadata": {},
   "outputs": [
    {
     "output_type": "stream",
     "name": "stderr",
     "text": [
      "/Users/seiya/Library/Python/3.8/lib/python/site-packages/ipykernel/ipkernel.py:283: DeprecationWarning: `should_run_async` will not call `transform_cell` automatically in the future. Please pass the result to `transformed_cell` argument and any exception that happen during thetransform in `preprocessing_exc_tuple` in IPython 7.17 and above.\n  and should_run_async(code)\n"
     ]
    }
   ],
   "source": [
    "from Bio import SeqIO\n",
    "import numpy as np\n",
    "import pandas as pd"
   ]
  },
  {
   "cell_type": "code",
   "execution_count": 54,
   "metadata": {},
   "outputs": [
    {
     "output_type": "stream",
     "name": "stderr",
     "text": [
      "/Users/seiya/Library/Python/3.8/lib/python/site-packages/ipykernel/ipkernel.py:283: DeprecationWarning: `should_run_async` will not call `transform_cell` automatically in the future. Please pass the result to `transformed_cell` argument and any exception that happen during thetransform in `preprocessing_exc_tuple` in IPython 7.17 and above.\n  and should_run_async(code)\n"
     ]
    }
   ],
   "source": [
    "FULLDATASET = 'dataset/ecamidata.fa'\n",
    "PARTIALDATASET =  'dataset/testdata.fa'"
   ]
  },
  {
   "cell_type": "code",
   "execution_count": 55,
   "metadata": {
    "tags": []
   },
   "outputs": [
    {
     "output_type": "stream",
     "name": "stderr",
     "text": [
      "/Users/seiya/Library/Python/3.8/lib/python/site-packages/ipykernel/ipkernel.py:283: DeprecationWarning: `should_run_async` will not call `transform_cell` automatically in the future. Please pass the result to `transformed_cell` argument and any exception that happen during thetransform in `preprocessing_exc_tuple` in IPython 7.17 and above.\n  and should_run_async(code)\n"
     ]
    }
   ],
   "source": [
    "with open(FULLDATASET) as fasta_file:  # Will close handle cleanly\n",
    "    identifiers = []\n",
    "    sequences = []\n",
    "    effects = []\n",
    "    for seq_record in SeqIO.parse(fasta_file, 'fasta'):  # (generator)\n",
    "        identifier = seq_record.id.split('|')[0]\n",
    "        effect = seq_record.id.split('|')[1:]\n",
    "        identifiers.append(identifier)\n",
    "        sequences.append(seq_record.seq.__str__())\n",
    "        effects.append(effect)"
   ]
  },
  {
   "cell_type": "code",
   "execution_count": 56,
   "metadata": {},
   "outputs": [
    {
     "output_type": "stream",
     "name": "stderr",
     "text": [
      "/Users/seiya/Library/Python/3.8/lib/python/site-packages/ipykernel/ipkernel.py:283: DeprecationWarning: `should_run_async` will not call `transform_cell` automatically in the future. Please pass the result to `transformed_cell` argument and any exception that happen during thetransform in `preprocessing_exc_tuple` in IPython 7.17 and above.\n  and should_run_async(code)\n"
     ]
    }
   ],
   "source": [
    "# identifiers = np.array(identifiers)\n",
    "# sequences = np.array(sequences)\n",
    "# effects = np.array(effects)"
   ]
  },
  {
   "cell_type": "code",
   "execution_count": 57,
   "metadata": {},
   "outputs": [
    {
     "output_type": "stream",
     "name": "stderr",
     "text": [
      "/Users/seiya/Library/Python/3.8/lib/python/site-packages/ipykernel/ipkernel.py:283: DeprecationWarning: `should_run_async` will not call `transform_cell` automatically in the future. Please pass the result to `transformed_cell` argument and any exception that happen during thetransform in `preprocessing_exc_tuple` in IPython 7.17 and above.\n  and should_run_async(code)\n"
     ]
    }
   ],
   "source": [
    "s1 = pd.Series(identifiers, name='ID')\n",
    "s2 = pd.Series(sequences, name='sequence')\n",
    "s3 = pd.Series(effects, name='effect')\n",
    "Qfasta = pd.DataFrame(dict(ID=s1, sequence=s2, effect=s3)).set_index(['ID'])"
   ]
  },
  {
   "cell_type": "code",
   "execution_count": 58,
   "metadata": {},
   "outputs": [
    {
     "output_type": "stream",
     "name": "stderr",
     "text": [
      "/Users/seiya/Library/Python/3.8/lib/python/site-packages/ipykernel/ipkernel.py:283: DeprecationWarning: `should_run_async` will not call `transform_cell` automatically in the future. Please pass the result to `transformed_cell` argument and any exception that happen during thetransform in `preprocessing_exc_tuple` in IPython 7.17 and above.\n  and should_run_async(code)\n"
     ]
    },
    {
     "output_type": "execute_result",
     "data": {
      "text/plain": [
       "                                                      sequence   effect\n",
       "ID                                                                     \n",
       "AWI06117.1   MIVQSTNSNRIGENLLKLGYISEEQLEIALKIQKKTNKLIGNVLVE...    [GT2]\n",
       "AWI06118.1   MLSVVVPVYNEEKNVEELVKRIKAVLTNIEYEIVFVDDSVDNTPQI...    [GT2]\n",
       "AWH92887.1   MSQSPGWARFAGRELPTWYDDVKLGVFVHWGPYSVPRWAPRVPDIQ...   [GH29]\n",
       "AWH89110.1   MGELYPVLKVSVVIPVYNEEESLPALLSRTIAACKQLKQPYEIILV...    [GT2]\n",
       "AWH84670.1   MKKLIALACFLLAVVNAANAQELKSPNGAFTMKFSLQAGGVPTYSL...   [GH97]\n",
       "...                                                        ...      ...\n",
       "EEC72531.1   MAELRHSTVAAAAARSSNSPAKRDSDASAASSPFASTSSARGRGGG...  [GH106]\n",
       "EEC81207.1   MAELRHATAAAAATRASSSPAKRDAESYASSSPFVASSSSPRGGGG...  [GH106]\n",
       "EEE52851.1   MSVALYARGGGCGAKAAAARRSGRGGGGRRRAAVVLLLALAYVAGL...  [GH106]\n",
       "NP_175672.2  MIGSPVKPLFVFVLTFSLLLVVILLSPSPHILQIPFPSGSSVGSSD...  [GH106]\n",
       "OAP19189.1   MEVRSESNITQARSDKLPLPLAVPKPRVQVWFVRVCSSILVWTCLV...  [GH106]\n",
       "\n",
       "[1066327 rows x 2 columns]"
      ],
      "text/html": "<div>\n<style scoped>\n    .dataframe tbody tr th:only-of-type {\n        vertical-align: middle;\n    }\n\n    .dataframe tbody tr th {\n        vertical-align: top;\n    }\n\n    .dataframe thead th {\n        text-align: right;\n    }\n</style>\n<table border=\"1\" class=\"dataframe\">\n  <thead>\n    <tr style=\"text-align: right;\">\n      <th></th>\n      <th>sequence</th>\n      <th>effect</th>\n    </tr>\n    <tr>\n      <th>ID</th>\n      <th></th>\n      <th></th>\n    </tr>\n  </thead>\n  <tbody>\n    <tr>\n      <th>AWI06117.1</th>\n      <td>MIVQSTNSNRIGENLLKLGYISEEQLEIALKIQKKTNKLIGNVLVE...</td>\n      <td>[GT2]</td>\n    </tr>\n    <tr>\n      <th>AWI06118.1</th>\n      <td>MLSVVVPVYNEEKNVEELVKRIKAVLTNIEYEIVFVDDSVDNTPQI...</td>\n      <td>[GT2]</td>\n    </tr>\n    <tr>\n      <th>AWH92887.1</th>\n      <td>MSQSPGWARFAGRELPTWYDDVKLGVFVHWGPYSVPRWAPRVPDIQ...</td>\n      <td>[GH29]</td>\n    </tr>\n    <tr>\n      <th>AWH89110.1</th>\n      <td>MGELYPVLKVSVVIPVYNEEESLPALLSRTIAACKQLKQPYEIILV...</td>\n      <td>[GT2]</td>\n    </tr>\n    <tr>\n      <th>AWH84670.1</th>\n      <td>MKKLIALACFLLAVVNAANAQELKSPNGAFTMKFSLQAGGVPTYSL...</td>\n      <td>[GH97]</td>\n    </tr>\n    <tr>\n      <th>...</th>\n      <td>...</td>\n      <td>...</td>\n    </tr>\n    <tr>\n      <th>EEC72531.1</th>\n      <td>MAELRHSTVAAAAARSSNSPAKRDSDASAASSPFASTSSARGRGGG...</td>\n      <td>[GH106]</td>\n    </tr>\n    <tr>\n      <th>EEC81207.1</th>\n      <td>MAELRHATAAAAATRASSSPAKRDAESYASSSPFVASSSSPRGGGG...</td>\n      <td>[GH106]</td>\n    </tr>\n    <tr>\n      <th>EEE52851.1</th>\n      <td>MSVALYARGGGCGAKAAAARRSGRGGGGRRRAAVVLLLALAYVAGL...</td>\n      <td>[GH106]</td>\n    </tr>\n    <tr>\n      <th>NP_175672.2</th>\n      <td>MIGSPVKPLFVFVLTFSLLLVVILLSPSPHILQIPFPSGSSVGSSD...</td>\n      <td>[GH106]</td>\n    </tr>\n    <tr>\n      <th>OAP19189.1</th>\n      <td>MEVRSESNITQARSDKLPLPLAVPKPRVQVWFVRVCSSILVWTCLV...</td>\n      <td>[GH106]</td>\n    </tr>\n  </tbody>\n</table>\n<p>1066327 rows × 2 columns</p>\n</div>"
     },
     "metadata": {},
     "execution_count": 58
    }
   ],
   "source": [
    "Qfasta"
   ]
  },
  {
   "cell_type": "code",
   "execution_count": null,
   "metadata": {},
   "outputs": [],
   "source": []
  }
 ]
}